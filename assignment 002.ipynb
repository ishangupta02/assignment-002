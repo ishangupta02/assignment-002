{
 "cells": [
  {
   "cell_type": "markdown",
   "id": "4c1232ce",
   "metadata": {},
   "source": [
    "1.What is indentation error? Why indentation is important? Give one simple example?"
   ]
  },
  {
   "cell_type": "markdown",
   "id": "2cfc5840",
   "metadata": {},
   "source": [
    " ans. If we are not providing proper white spaces so that the interpreter would able to understand the block of code that is what all lines of code to be executed then we get Indentation Error."
   ]
  },
  {
   "cell_type": "markdown",
   "id": "1ff826fa",
   "metadata": {},
   "source": [
    "2. Correct the following code and write the comment where you made the correction?"
   ]
  },
  {
   "cell_type": "code",
   "execution_count": 2,
   "id": "204e177a",
   "metadata": {},
   "outputs": [
    {
     "name": "stdout",
     "output_type": "stream",
     "text": [
      "Hey friend, is class started?: [0-False/1-True]1\n",
      "Since class started...\n",
      "Lets concentrate\n"
     ]
    }
   ],
   "source": [
    "class_started = bool(input(\"Hey friend, is class started?: [0-False/1-True]\"))\n",
    "\n",
    "\n",
    "\n",
    "if class_started:\n",
    "   print(\"Since class started...\")\n",
    "   print(\"Lets concentrate\")\n",
    "else:\n",
    "   print(\"Since class is not started...\")\n",
    "   print(\"let's revise\") "
   ]
  },
  {
   "cell_type": "markdown",
   "id": "0360d8af",
   "metadata": {},
   "source": [
    "3. Use if else condition to verify that dataype of input() method in python is always string."
   ]
  },
  {
   "cell_type": "code",
   "execution_count": null,
   "id": "a23a5386",
   "metadata": {},
   "outputs": [],
   "source": [
    "class_started = input(\"is class started?: [0-False/1-True]\")\n",
    "\n",
    "if type(\"class_started\"):\n",
    "    print(type(class_started))\n",
    "    print(\"string\")\n",
    "else:\n",
    "    print(\"not a string\")"
   ]
  },
  {
   "cell_type": "markdown",
   "id": "f56b6681",
   "metadata": {},
   "source": [
    "3. Take 3 variables and assign integer values to them. Find the largest variable, by only using the if and else conditions."
   ]
  },
  {
   "cell_type": "code",
   "execution_count": 4,
   "id": "644ae10d",
   "metadata": {},
   "outputs": [
    {
     "name": "stdout",
     "output_type": "stream",
     "text": [
      "c is greater \n"
     ]
    }
   ],
   "source": [
    "a = 10 \n",
    "b= 15\n",
    "c = 20\n",
    " \n",
    "if a < b:\n",
    "    if b<c:\n",
    "        print(\"c is greater \")\n",
    "    else:\n",
    "        print(\"b is greater \")\n",
    "else: \n",
    "    print(\"a is greater\")\n"
   ]
  },
  {
   "cell_type": "markdown",
   "id": "68444233",
   "metadata": {},
   "source": [
    "4. What would be the solution?"
   ]
  },
  {
   "cell_type": "code",
   "execution_count": 5,
   "id": "3c44405f",
   "metadata": {},
   "outputs": [
    {
     "name": "stdout",
     "output_type": "stream",
     "text": [
      "a is not equal to b\n"
     ]
    }
   ],
   "source": [
    "a = 6\n",
    "b = 10\n",
    "\n",
    "if a!=b:\n",
    "    print(\"a is not equal to b\")\n",
    "else:\n",
    "    print(\"a is equal to b\")"
   ]
  },
  {
   "cell_type": "markdown",
   "id": "c5dff066",
   "metadata": {},
   "source": [
    "5. Find the answer as well as find out the reason behind the result"
   ]
  },
  {
   "cell_type": "code",
   "execution_count": 6,
   "id": "d8dec89a",
   "metadata": {},
   "outputs": [
    {
     "name": "stdout",
     "output_type": "stream",
     "text": [
      "False\n"
     ]
    }
   ],
   "source": [
    "a = 5.0\n",
    "b = 10/2\n",
    "\n",
    "print(a is b)"
   ]
  },
  {
   "cell_type": "code",
   "execution_count": 7,
   "id": "aaca1d1a",
   "metadata": {},
   "outputs": [
    {
     "name": "stdout",
     "output_type": "stream",
     "text": [
      "False\n"
     ]
    }
   ],
   "source": [
    "a = 5.0\n",
    "b = int(10/2)\n",
    "\n",
    "print(a is b)"
   ]
  },
  {
   "cell_type": "code",
   "execution_count": 8,
   "id": "54f106ac",
   "metadata": {},
   "outputs": [
    {
     "name": "stdout",
     "output_type": "stream",
     "text": [
      "False\n"
     ]
    }
   ],
   "source": [
    "a = 5.0\n",
    "b = float(10/2)\n",
    "\n",
    "print(a is b)"
   ]
  },
  {
   "cell_type": "markdown",
   "id": "e6f78591",
   "metadata": {},
   "source": [
    "6. Write a program that asks the user to enter a number. You should print out a message to the user, either “That number is divisible by either 3 or 5”, or “That number is not divisible by either 3 or 5”. Be sure to consider the data type of the input you are taking in from the user. Use a single if/else block to solve this problem."
   ]
  },
  {
   "cell_type": "code",
   "execution_count": 14,
   "id": "bc61583d",
   "metadata": {},
   "outputs": [
    {
     "name": "stdout",
     "output_type": "stream",
     "text": [
      "enter a number which is divisible by 3 or 56\n",
      "number is divisible by 3 or 5 is\n"
     ]
    }
   ],
   "source": [
    "number = int(input(\"enter a number which is divisible by 3 or 5\"))\n",
    "\n",
    "if number % 3 == 0 or number % 5 == 0:\n",
    "    print(\"number is divisible by 3 or 5 is\")\n",
    "else:\n",
    "    print(\"number is not divisible by 3 or 5 \")"
   ]
  },
  {
   "cell_type": "markdown",
   "id": "ead54a85",
   "metadata": {},
   "source": [
    "7. Take user input for length and width. Then calculate the area of rectangle. Also print as per length and width whether its a square of rectangle."
   ]
  },
  {
   "cell_type": "code",
   "execution_count": 20,
   "id": "37bd472b",
   "metadata": {},
   "outputs": [
    {
     "name": "stdout",
     "output_type": "stream",
     "text": [
      "enter the length11\n",
      "enter the breadth11\n",
      "it is a square\n",
      "area:121\n"
     ]
    }
   ],
   "source": [
    "length = int(input(\"enter the length\"))\n",
    "breadth = int(input(\"enter the breadth\"))\n",
    "\n",
    "if length*breadth:\n",
    "    if length == breadth:\n",
    "        print(\"it is a square\")\n",
    "        print(f\"area:{length*breadth}\")\n",
    "    else:\n",
    "        print(\"it is a rectangle\")\n",
    "        print(f\"area:{length*breadth}\")\n"
   ]
  },
  {
   "cell_type": "code",
   "execution_count": 21,
   "id": "9974c9f3",
   "metadata": {},
   "outputs": [
    {
     "name": "stdout",
     "output_type": "stream",
     "text": [
      "enter the length12\n",
      "enter the breadth14\n",
      "it is a rectangle\n",
      "area:168\n"
     ]
    }
   ],
   "source": [
    "length = int(input(\"enter the length\"))\n",
    "breadth = int(input(\"enter the breadth\"))\n",
    "\n",
    "if length*breadth:\n",
    "    if length == breadth:\n",
    "        print(\"it is a square\")\n",
    "        print(f\"area:{length*breadth}\")\n",
    "    else:\n",
    "        print(\"it is a rectangle\")\n",
    "        print(f\"area:{length*breadth}\")"
   ]
  },
  {
   "cell_type": "markdown",
   "id": "a62776b6",
   "metadata": {},
   "source": [
    "8. Check whether a year is leap year or not. Use nested if...else to solve this problem. A leap year is exactly divisible by 4 except for century years (years ending with 00). The century year is a leap year only if it is perfectly divisible by 400."
   ]
  },
  {
   "cell_type": "code",
   "execution_count": 26,
   "id": "f18e2bcf",
   "metadata": {},
   "outputs": [
    {
     "name": "stdout",
     "output_type": "stream",
     "text": [
      "not a leap year\n"
     ]
    }
   ],
   "source": [
    "leap_year = 2009\n",
    "\n",
    "if leap_year % 4 ==0:\n",
    "    print(\"it is a leap year\")\n",
    "else:\n",
    "    print(\"not a leap year\")"
   ]
  },
  {
   "cell_type": "code",
   "execution_count": null,
   "id": "26aacd2b",
   "metadata": {},
   "outputs": [],
   "source": []
  }
 ],
 "metadata": {
  "kernelspec": {
   "display_name": "Python 3 (ipykernel)",
   "language": "python",
   "name": "python3"
  },
  "language_info": {
   "codemirror_mode": {
    "name": "ipython",
    "version": 3
   },
   "file_extension": ".py",
   "mimetype": "text/x-python",
   "name": "python",
   "nbconvert_exporter": "python",
   "pygments_lexer": "ipython3",
   "version": "3.9.12"
  }
 },
 "nbformat": 4,
 "nbformat_minor": 5
}
